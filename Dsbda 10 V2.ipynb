{
 "cells": [
  {
   "attachments": {},
   "cell_type": "markdown",
   "id": "00fe566c",
   "metadata": {},
   "source": [
    "### Importing Necessary Libraries"
   ]
  },
  {
   "cell_type": "code",
   "execution_count": null,
   "id": "ebd4baf9",
   "metadata": {},
   "outputs": [],
   "source": [
    "import pandas as pd\n",
    "import seaborn as sns\n",
    "\n",
    "sns.set_style('whitegrid')"
   ]
  },
  {
   "attachments": {},
   "cell_type": "markdown",
   "id": "da4e95f9",
   "metadata": {},
   "source": [
    "### Loading the dataset"
   ]
  },
  {
   "cell_type": "code",
   "execution_count": null,
   "id": "98208977",
   "metadata": {},
   "outputs": [],
   "source": [
    "#df= sns.load_dataset('train')\n",
    "titanic = pd.read_csv('train.csv')\n",
    "titanic.head()"
   ]
  },
  {
   "attachments": {},
   "cell_type": "markdown",
   "id": "87d21fda",
   "metadata": {},
   "source": [
    "### Data Visualization"
   ]
  },
  {
   "cell_type": "code",
   "execution_count": null,
   "id": "8b449471",
   "metadata": {},
   "outputs": [],
   "source": [
    "sns.boxplot(x='Age', y='Sex', data=titanic, hue='Survived')"
   ]
  },
  {
   "attachments": {},
   "cell_type": "markdown",
   "id": "6c88bf32",
   "metadata": {},
   "source": [
    "#### Observations"
   ]
  },
  {
   "attachments": {},
   "cell_type": "markdown",
   "id": "00f996db",
   "metadata": {},
   "source": [
    "* We created a box plot of variables 'age & 'sex' & used survival as the hue"
   ]
  },
  {
   "attachments": {},
   "cell_type": "markdown",
   "id": "9d3f95cd",
   "metadata": {},
   "source": [
    "* Ther we visualized three variables Age, Sex & Survival. Two out of these are categorical and one is numerical"
   ]
  },
  {
   "attachments": {},
   "cell_type": "markdown",
   "id": "50b9f1a0",
   "metadata": {},
   "source": [
    "* Now in addition to the information about the age of each gender, you can also see the distribution of passengers who survived"
   ]
  },
  {
   "attachments": {},
   "cell_type": "markdown",
   "id": "442e6a5f",
   "metadata": {},
   "source": [
    "* For instance, you can see that among the male passengers, on average more younger people survived as compared to older ones"
   ]
  },
  {
   "attachments": {},
   "cell_type": "markdown",
   "id": "2d803e76",
   "metadata": {},
   "source": [
    "* The box plot provides a visual representation of the distribution of age for each gender and survival status.\n",
    "* The median age for both genders appears to be similar, with a slight difference in favor of females.\n",
    "* The box plot shows the spread of age values, with the box length indicating the interquartile range (IQR).\n",
    "* The whiskers represent the range of age values, excluding outliers.\n",
    "Outliers, represented by individual points beyond the whiskers, may indicate extreme age values.\n",
    "* By considering the box plot for each gender and survival status, you can observe any differences or similarities in the age distributions between males and females, as well as their survival outcomes."
   ]
  }
 ],
 "metadata": {
  "kernelspec": {
   "display_name": "Python 3 (ipykernel)",
   "language": "python",
   "name": "python3"
  },
  "language_info": {
   "codemirror_mode": {
    "name": "ipython",
    "version": 3
   },
   "file_extension": ".py",
   "mimetype": "text/x-python",
   "name": "python",
   "nbconvert_exporter": "python",
   "pygments_lexer": "ipython3",
   "version": "3.9.10"
  }
 },
 "nbformat": 4,
 "nbformat_minor": 5
}
