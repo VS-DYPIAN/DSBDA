{
 "cells": [
  {
   "cell_type": "markdown",
   "id": "a6ab15d4",
   "metadata": {},
   "source": [
    "* Importing Necessary Libraries"
   ]
  },
  {
   "cell_type": "code",
   "execution_count": 1,
   "id": "9310282b",
   "metadata": {
    "execution": {
     "iopub.execute_input": "2022-03-28T06:29:17.644449Z",
     "iopub.status.busy": "2022-03-28T06:29:17.643812Z",
     "iopub.status.idle": "2022-03-28T06:29:18.719152Z",
     "shell.execute_reply": "2022-03-28T06:29:18.718388Z",
     "shell.execute_reply.started": "2022-03-28T05:56:12.12105Z"
    },
    "papermill": {
     "duration": 1.10974,
     "end_time": "2022-03-28T06:29:18.719305",
     "exception": false,
     "start_time": "2022-03-28T06:29:17.609565",
     "status": "completed"
    },
    "tags": []
   },
   "outputs": [],
   "source": [
    "import numpy as np\n",
    "import pandas as pd\n",
    "import matplotlib.pyplot as plt\n",
    "from sklearn.model_selection import train_test_split\n",
    "from sklearn.linear_model import LogisticRegression\n",
    "from sklearn.preprocessing import StandardScaler\n",
    "from sklearn.metrics import confusion_matrix,ConfusionMatrixDisplay,classification_report,accuracy_score, precision_score, recall_score, f1_score\n"
   ]
  },
  {
   "cell_type": "markdown",
   "id": "e34c9f7b",
   "metadata": {},
   "source": [
    "* Loading the dataset and printing the first 5 rows of the dataset"
   ]
  },
  {
   "cell_type": "code",
   "execution_count": null,
   "id": "869606d2",
   "metadata": {
    "execution": {
     "iopub.execute_input": "2022-03-28T06:29:18.765204Z",
     "iopub.status.busy": "2022-03-28T06:29:18.764635Z",
     "iopub.status.idle": "2022-03-28T06:29:18.788698Z",
     "shell.execute_reply": "2022-03-28T06:29:18.789144Z",
     "shell.execute_reply.started": "2022-03-28T05:56:12.132733Z"
    },
    "papermill": {
     "duration": 0.04806,
     "end_time": "2022-03-28T06:29:18.789308",
     "exception": false,
     "start_time": "2022-03-28T06:29:18.741248",
     "status": "completed"
    },
    "tags": []
   },
   "outputs": [],
   "source": [
    "data =  pd.read_csv('Social_Network_Ads.csv')\n",
    "data.head(5)"
   ]
  },
  {
   "cell_type": "code",
   "execution_count": null,
   "id": "875f9974",
   "metadata": {
    "execution": {
     "iopub.execute_input": "2022-03-28T06:29:18.841221Z",
     "iopub.status.busy": "2022-03-28T06:29:18.831591Z",
     "iopub.status.idle": "2022-03-28T06:29:18.855532Z",
     "shell.execute_reply": "2022-03-28T06:29:18.855949Z",
     "shell.execute_reply.started": "2022-03-28T05:56:12.156157Z"
    },
    "papermill": {
     "duration": 0.046711,
     "end_time": "2022-03-28T06:29:18.856100",
     "exception": false,
     "start_time": "2022-03-28T06:29:18.809389",
     "status": "completed"
    },
    "scrolled": true,
    "tags": []
   },
   "outputs": [],
   "source": [
    "data.info()"
   ]
  },
  {
   "cell_type": "markdown",
   "id": "12d6a897",
   "metadata": {},
   "source": [
    "* Checking Basic statistics of the dataset"
   ]
  },
  {
   "cell_type": "code",
   "execution_count": null,
   "id": "a86780db",
   "metadata": {
    "execution": {
     "iopub.execute_input": "2022-03-28T06:29:18.899808Z",
     "iopub.status.busy": "2022-03-28T06:29:18.898956Z",
     "iopub.status.idle": "2022-03-28T06:29:18.920769Z",
     "shell.execute_reply": "2022-03-28T06:29:18.921178Z",
     "shell.execute_reply.started": "2022-03-28T05:56:12.169844Z"
    },
    "papermill": {
     "duration": 0.044978,
     "end_time": "2022-03-28T06:29:18.921372",
     "exception": false,
     "start_time": "2022-03-28T06:29:18.876394",
     "status": "completed"
    },
    "scrolled": true,
    "tags": []
   },
   "outputs": [],
   "source": [
    "data.describe()"
   ]
  },
  {
   "cell_type": "markdown",
   "id": "765f4ffe",
   "metadata": {},
   "source": [
    "* Checking for NAN values"
   ]
  },
  {
   "cell_type": "code",
   "execution_count": null,
   "id": "3b3189cf",
   "metadata": {
    "execution": {
     "iopub.execute_input": "2022-03-28T06:29:18.965383Z",
     "iopub.status.busy": "2022-03-28T06:29:18.964498Z",
     "iopub.status.idle": "2022-03-28T06:29:18.971462Z",
     "shell.execute_reply": "2022-03-28T06:29:18.971880Z",
     "shell.execute_reply.started": "2022-03-28T05:56:12.199413Z"
    },
    "papermill": {
     "duration": 0.030335,
     "end_time": "2022-03-28T06:29:18.972034",
     "exception": false,
     "start_time": "2022-03-28T06:29:18.941699",
     "status": "completed"
    },
    "tags": []
   },
   "outputs": [],
   "source": [
    "data.isnull().sum()"
   ]
  },
  {
   "cell_type": "markdown",
   "id": "6c2e4280",
   "metadata": {},
   "source": [
    "* Displaying dimensions of the dataframe"
   ]
  },
  {
   "cell_type": "code",
   "execution_count": null,
   "id": "f45c678b",
   "metadata": {
    "execution": {
     "iopub.execute_input": "2022-03-28T06:29:19.017227Z",
     "iopub.status.busy": "2022-03-28T06:29:19.016330Z",
     "iopub.status.idle": "2022-03-28T06:29:19.021485Z",
     "shell.execute_reply": "2022-03-28T06:29:19.021945Z",
     "shell.execute_reply.started": "2022-03-28T05:56:12.2089Z"
    },
    "papermill": {
     "duration": 0.029216,
     "end_time": "2022-03-28T06:29:19.022097",
     "exception": false,
     "start_time": "2022-03-28T06:29:18.992881",
     "status": "completed"
    },
    "scrolled": true,
    "tags": []
   },
   "outputs": [],
   "source": [
    "data.shape"
   ]
  },
  {
   "cell_type": "markdown",
   "id": "5d11ca3e",
   "metadata": {},
   "source": [
    "* Loading 'Age', 'Estimated_salary' as the features in 'x' and 'Purchased' as the target variable in 'y'"
   ]
  },
  {
   "cell_type": "code",
   "execution_count": null,
   "id": "9dfff176",
   "metadata": {
    "execution": {
     "iopub.execute_input": "2022-03-28T06:29:19.173492Z",
     "iopub.status.busy": "2022-03-28T06:29:19.172628Z",
     "iopub.status.idle": "2022-03-28T06:29:19.176335Z",
     "shell.execute_reply": "2022-03-28T06:29:19.176850Z",
     "shell.execute_reply.started": "2022-03-28T05:56:12.243016Z"
    },
    "papermill": {
     "duration": 0.028123,
     "end_time": "2022-03-28T06:29:19.177000",
     "exception": false,
     "start_time": "2022-03-28T06:29:19.148877",
     "status": "completed"
    },
    "tags": []
   },
   "outputs": [],
   "source": [
    "x = data.iloc[:,2:4]"
   ]
  },
  {
   "cell_type": "code",
   "execution_count": null,
   "id": "5970de48",
   "metadata": {
    "execution": {
     "iopub.execute_input": "2022-03-28T06:29:19.223559Z",
     "iopub.status.busy": "2022-03-28T06:29:19.222630Z",
     "iopub.status.idle": "2022-03-28T06:29:19.225923Z",
     "shell.execute_reply": "2022-03-28T06:29:19.226393Z",
     "shell.execute_reply.started": "2022-03-28T05:56:12.257093Z"
    },
    "papermill": {
     "duration": 0.027913,
     "end_time": "2022-03-28T06:29:19.226553",
     "exception": false,
     "start_time": "2022-03-28T06:29:19.198640",
     "status": "completed"
    },
    "tags": []
   },
   "outputs": [],
   "source": [
    "y = data.iloc[:,4]\n"
   ]
  },
  {
   "cell_type": "markdown",
   "id": "89afc4dd",
   "metadata": {},
   "source": [
    "* Spliting data into 75% training and 25% testing data"
   ]
  },
  {
   "cell_type": "code",
   "execution_count": null,
   "id": "cf264b8a",
   "metadata": {
    "execution": {
     "iopub.execute_input": "2022-03-28T06:29:19.272695Z",
     "iopub.status.busy": "2022-03-28T06:29:19.271798Z",
     "iopub.status.idle": "2022-03-28T06:29:19.277059Z",
     "shell.execute_reply": "2022-03-28T06:29:19.277476Z",
     "shell.execute_reply.started": "2022-03-28T05:56:12.26996Z"
    },
    "papermill": {
     "duration": 0.030028,
     "end_time": "2022-03-28T06:29:19.277635",
     "exception": false,
     "start_time": "2022-03-28T06:29:19.247607",
     "status": "completed"
    },
    "tags": []
   },
   "outputs": [],
   "source": [
    "x_train, x_test, y_train, y_test = train_test_split(x, y, test_size=0.25, random_state=42)"
   ]
  },
  {
   "cell_type": "markdown",
   "id": "4c47bb31",
   "metadata": {},
   "source": [
    "* Using the StandardScaler to standardize the values"
   ]
  },
  {
   "cell_type": "code",
   "execution_count": null,
   "id": "4e75054e",
   "metadata": {
    "execution": {
     "iopub.execute_input": "2022-03-28T06:29:19.324179Z",
     "iopub.status.busy": "2022-03-28T06:29:19.323294Z",
     "iopub.status.idle": "2022-03-28T06:29:19.330964Z",
     "shell.execute_reply": "2022-03-28T06:29:19.331460Z",
     "shell.execute_reply.started": "2022-03-28T05:56:12.28268Z"
    },
    "papermill": {
     "duration": 0.032721,
     "end_time": "2022-03-28T06:29:19.331618",
     "exception": false,
     "start_time": "2022-03-28T06:29:19.298897",
     "status": "completed"
    },
    "tags": []
   },
   "outputs": [],
   "source": [
    "scale = StandardScaler()\n",
    "x_train = scale.fit_transform(x_train)\n",
    "x_test = scale.transform(x_test)"
   ]
  },
  {
   "cell_type": "markdown",
   "id": "00ac8543",
   "metadata": {},
   "source": [
    "* Preparing and Training our Logistic Regression model with the training and testing data"
   ]
  },
  {
   "cell_type": "code",
   "execution_count": null,
   "id": "31c4edae",
   "metadata": {
    "execution": {
     "iopub.execute_input": "2022-03-28T06:29:19.382781Z",
     "iopub.status.busy": "2022-03-28T06:29:19.381797Z",
     "iopub.status.idle": "2022-03-28T06:29:19.395849Z",
     "shell.execute_reply": "2022-03-28T06:29:19.394978Z",
     "shell.execute_reply.started": "2022-03-28T05:56:12.299554Z"
    },
    "papermill": {
     "duration": 0.043306,
     "end_time": "2022-03-28T06:29:19.396046",
     "exception": false,
     "start_time": "2022-03-28T06:29:19.352740",
     "status": "completed"
    },
    "tags": []
   },
   "outputs": [],
   "source": [
    "lr = LogisticRegression(random_state = 0,solver = 'lbfgs')\n",
    "lr.fit(x_train,y_train)\n",
    "pred = lr.predict(x_test)\n",
    "       \n",
    "print(x_test[:10])\n",
    "print('-'*15)\n",
    "print(pred[:10])"
   ]
  },
  {
   "cell_type": "code",
   "execution_count": null,
   "id": "57fb81e8",
   "metadata": {
    "execution": {
     "iopub.execute_input": "2022-03-28T06:29:19.452324Z",
     "iopub.status.busy": "2022-03-28T06:29:19.451725Z",
     "iopub.status.idle": "2022-03-28T06:29:19.458805Z",
     "shell.execute_reply": "2022-03-28T06:29:19.459622Z",
     "shell.execute_reply.started": "2022-03-28T05:56:12.324168Z"
    },
    "papermill": {
     "duration": 0.040457,
     "end_time": "2022-03-28T06:29:19.459855",
     "exception": false,
     "start_time": "2022-03-28T06:29:19.419398",
     "status": "completed"
    },
    "scrolled": true,
    "tags": []
   },
   "outputs": [],
   "source": [
    "print('Expected Output:',pred[:10])\n",
    "print('-'*15)\n",
    "print('Predicted Output:\\n',y_test[:10])"
   ]
  },
  {
   "cell_type": "markdown",
   "id": "c48e3393",
   "metadata": {},
   "source": [
    "* Evaluating the model based on confusion matrix"
   ]
  },
  {
   "cell_type": "code",
   "execution_count": null,
   "id": "c9eb044c",
   "metadata": {
    "execution": {
     "iopub.execute_input": "2022-03-28T06:29:19.527854Z",
     "iopub.status.busy": "2022-03-28T06:29:19.526890Z",
     "iopub.status.idle": "2022-03-28T06:29:19.539096Z",
     "shell.execute_reply": "2022-03-28T06:29:19.539782Z",
     "shell.execute_reply.started": "2022-03-28T05:56:12.333094Z"
    },
    "papermill": {
     "duration": 0.04883,
     "end_time": "2022-03-28T06:29:19.540007",
     "exception": false,
     "start_time": "2022-03-28T06:29:19.491177",
     "status": "completed"
    },
    "tags": []
   },
   "outputs": [],
   "source": [
    "\n",
    "matrix = confusion_matrix(y_test,pred,labels = lr.classes_)\n",
    "print(matrix)\n",
    "\n",
    "tp, fn, fp, tn = confusion_matrix(y_test,pred,labels=[1,0]).reshape(-1)"
   ]
  },
  {
   "cell_type": "code",
   "execution_count": null,
   "id": "d37b62ba",
   "metadata": {
    "execution": {
     "iopub.execute_input": "2022-03-28T06:29:19.613279Z",
     "iopub.status.busy": "2022-03-28T06:29:19.612311Z",
     "iopub.status.idle": "2022-03-28T06:29:19.850543Z",
     "shell.execute_reply": "2022-03-28T06:29:19.850969Z",
     "shell.execute_reply.started": "2022-03-28T05:56:12.346772Z"
    },
    "papermill": {
     "duration": 0.273277,
     "end_time": "2022-03-28T06:29:19.851166",
     "exception": false,
     "start_time": "2022-03-28T06:29:19.577889",
     "status": "completed"
    },
    "scrolled": true,
    "tags": []
   },
   "outputs": [],
   "source": [
    "conf_matrix = ConfusionMatrixDisplay(confusion_matrix=matrix,display_labels=lr.classes_)\n",
    "conf_matrix.plot(cmap=plt.cm.Blues)\n",
    "plt.show()"
   ]
  },
  {
   "cell_type": "markdown",
   "id": "dbe0a3fd",
   "metadata": {},
   "source": [
    "* Determining the Accuracy,Error Rate,Recall,Precision of the model"
   ]
  },
  {
   "cell_type": "code",
   "execution_count": null,
   "id": "148da0b3",
   "metadata": {
    "execution": {
     "iopub.execute_input": "2022-03-28T06:29:19.916227Z",
     "iopub.status.busy": "2022-03-28T06:29:19.915276Z",
     "iopub.status.idle": "2022-03-28T06:29:19.922834Z",
     "shell.execute_reply": "2022-03-28T06:29:19.922345Z",
     "shell.execute_reply.started": "2022-03-28T05:56:12.569896Z"
    },
    "papermill": {
     "duration": 0.040929,
     "end_time": "2022-03-28T06:29:19.922962",
     "exception": false,
     "start_time": "2022-03-28T06:29:19.882033",
     "status": "completed"
    },
    "scrolled": true,
    "tags": []
   },
   "outputs": [],
   "source": [
    "print(classification_report(y_test,pred))"
   ]
  },
  {
   "cell_type": "code",
   "execution_count": null,
   "id": "b3256e8d",
   "metadata": {
    "execution": {
     "iopub.execute_input": "2022-03-28T06:29:19.977026Z",
     "iopub.status.busy": "2022-03-28T06:29:19.976052Z",
     "iopub.status.idle": "2022-03-28T06:29:19.983069Z",
     "shell.execute_reply": "2022-03-28T06:29:19.982381Z",
     "shell.execute_reply.started": "2022-03-28T05:56:12.581406Z"
    },
    "papermill": {
     "duration": 0.036572,
     "end_time": "2022-03-28T06:29:19.983269",
     "exception": false,
     "start_time": "2022-03-28T06:29:19.946697",
     "status": "completed"
    },
    "tags": []
   },
   "outputs": [],
   "source": [
    "print('\\nAccuracy: {:.2f}'.format(accuracy_score(y_test,pred)))\n",
    "print('Error Rate: ',(fp+fn)/(tp+tn+fn+fp))\n",
    "print('Sensitivity (Recall or True positive rate) :',tp/(tp+fn))\n",
    "print('Specificity (True negative rate) :',tn/(fp+tn))\n",
    "print('Precision (Positive predictive value) :',tp/(tp+fp))\n",
    "print('False Positive Rate :',fp/(tn+fp))"
   ]
  }
 ],
 "metadata": {
  "kernelspec": {
   "display_name": "Python 3 (ipykernel)",
   "language": "python",
   "name": "python3"
  },
  "language_info": {
   "codemirror_mode": {
    "name": "ipython",
    "version": 3
   },
   "file_extension": ".py",
   "mimetype": "text/x-python",
   "name": "python",
   "nbconvert_exporter": "python",
   "pygments_lexer": "ipython3",
   "version": "3.9.10"
  },
  "papermill": {
   "default_parameters": {},
   "duration": 11.597814,
   "end_time": "2022-03-28T06:29:21.187540",
   "environment_variables": {},
   "exception": null,
   "input_path": "__notebook__.ipynb",
   "output_path": "__notebook__.ipynb",
   "parameters": {},
   "start_time": "2022-03-28T06:29:09.589726",
   "version": "2.3.3"
  }
 },
 "nbformat": 4,
 "nbformat_minor": 5
}
