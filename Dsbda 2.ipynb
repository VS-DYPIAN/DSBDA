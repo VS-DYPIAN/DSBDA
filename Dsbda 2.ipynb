{
 "cells": [
  {
   "cell_type": "code",
   "execution_count": null,
   "metadata": {
    "id": "kWOHarD6Ueei"
   },
   "outputs": [],
   "source": [
    "# Importing all the required python libraries\n",
    "import pandas as pd\n",
    "import numpy as np\n",
    "import matplotlib.pyplot as plt"
   ]
  },
  {
   "cell_type": "code",
   "execution_count": null,
   "metadata": {
    "colab": {
     "base_uri": "https://localhost:8080/",
     "height": 206
    },
    "id": "0k23L1scVSWe",
    "outputId": "cb253475-0607-4eed-8892-24054c995785"
   },
   "outputs": [],
   "source": [
    "# Load the Dataset into pandas dataframe.\n",
    "df = pd.read_csv(\"StudentsPerformance.csv\")\n",
    "df"
   ]
  },
  {
   "cell_type": "code",
   "execution_count": null,
   "metadata": {
    "colab": {
     "base_uri": "https://localhost:8080/"
    },
    "id": "Ty7s5w-hVa4I",
    "outputId": "c668dc0a-4c94-48c7-c885-a31d78bce85c"
   },
   "outputs": [],
   "source": [
    "# 1 Scan all variables for missing values and inconsistencies.\n",
    "df.isnull().sum()"
   ]
  },
  {
   "cell_type": "code",
   "execution_count": null,
   "metadata": {
    "colab": {
     "base_uri": "https://localhost:8080/",
     "height": 49
    },
    "id": "LTaHHyiPWI0N",
    "outputId": "760e9af5-3479-4df1-e804-4ed841771de0"
   },
   "outputs": [],
   "source": [
    "# 1\n",
    "series = df['math score'].isnull()\n",
    "df[series]"
   ]
  },
  {
   "cell_type": "code",
   "execution_count": null,
   "metadata": {
    "id": "FFinvVFVXfxC"
   },
   "outputs": [],
   "source": [
    "# 1 dealing with missing value using mean\n",
    "m_avg = df['math score'].mean()\n",
    "df['math score'].fillna(value = m_avg, inplace=True)"
   ]
  },
  {
   "cell_type": "code",
   "execution_count": null,
   "metadata": {
    "colab": {
     "base_uri": "https://localhost:8080/"
    },
    "id": "vJHSJceJYFob",
    "outputId": "b2fb1b70-e263-4a81-da76-1a59a9f5acfa"
   },
   "outputs": [],
   "source": [
    "df['math score']"
   ]
  },
  {
   "cell_type": "code",
   "execution_count": null,
   "metadata": {
    "colab": {
     "base_uri": "https://localhost:8080/",
     "height": 424
    },
    "id": "VO4qTOBLYIXg",
    "outputId": "a270a9fa-fac1-4320-a7d7-f130c54c8ce6"
   },
   "outputs": [],
   "source": [
    "# 1 to delete null values we use dropna\n",
    "df.dropna()"
   ]
  },
  {
   "cell_type": "code",
   "execution_count": null,
   "metadata": {},
   "outputs": [],
   "source": [
    "#2  Calculate Z-scores for each numeric variable\n",
    "\n",
    "import scipy.stats as stats\n",
    "mean = df['math score'].mean()\n",
    "std = df['math score'].std()\n",
    "zscores = stats.zscore(df['math score'])\n",
    "print(zscores)"
   ]
  },
  {
   "cell_type": "code",
   "execution_count": null,
   "metadata": {},
   "outputs": [],
   "source": [
    "#2 Scan all numeric variables for outliers.\n",
    "threshold = 0\n",
    "outlier = []\n",
    "for i in df['math score']:\n",
    "  z = (i-mean)/std\n",
    "  if z > threshold:\n",
    "   outlier.append(i)\n",
    "\n",
    "#printing outlier in datset\n",
    "print('outlier in dataset is', outlier)\n",
    "\n",
    "# Find indices of outliers\n",
    "outlier_indices = (abs(zscores) > threshold)\n",
    "\n",
    "# Filter the DataFrame to exclude outliers\n",
    "df_filtered = df[~outlier_indices]\n",
    "print(df_filtered)"
   ]
  },
  {
   "cell_type": "code",
   "execution_count": null,
   "metadata": {
    "colab": {
     "base_uri": "https://localhost:8080/",
     "height": 282
    },
    "id": "SVN67ThmYVvW",
    "outputId": "a148d0e5-bd75-4029-fbb7-e8b7a2a1f9f9"
   },
   "outputs": [],
   "source": [
    "import matplotlib.pyplot as plt\n",
    "df = pd.read_csv(\"StudentsPerformance.csv\")\n",
    "df.boxplot(['math score', 'reading score', 'writing score'])\n",
    "plt.show()"
   ]
  },
  {
   "cell_type": "code",
   "execution_count": null,
   "metadata": {},
   "outputs": [],
   "source": [
    "#Apply data transformations on at least one of the variables.\n",
    "\n",
    "from sklearn import preprocessing\n",
    "label_encoder = preprocessing.LabelEncoder()\n",
    "df['gender']= label_encoder.fit_transform(df['gender'])\n",
    "df['gender'].unique()\n",
    "df"
   ]
  },
  {
   "attachments": {},
   "cell_type": "markdown",
   "metadata": {},
   "source": [
    "### Transforming the \"math score\" variable to decrease skewness and approximate a normal distribution:"
   ]
  },
  {
   "cell_type": "code",
   "execution_count": null,
   "metadata": {},
   "outputs": [],
   "source": [
    "\n",
    "# Original distribution of math scores\n",
    "plt.figure(figsize=(8, 6))\n",
    "plt.hist(df['math score'], bins=30, edgecolor='black')\n",
    "plt.xlabel('Math Score')\n",
    "plt.ylabel('Frequency')\n",
    "plt.title('Original Distribution of Math Scores')\n",
    "plt.show()\n"
   ]
  },
  {
   "attachments": {},
   "cell_type": "markdown",
   "metadata": {},
   "source": [
    "### To decrease the skewness and approximate a normal distribution, we can apply a log transformation to the \"math score\" variable. This transformation is effective when the data has a right-skewed distribution."
   ]
  },
  {
   "cell_type": "code",
   "execution_count": null,
   "metadata": {},
   "outputs": [],
   "source": [
    "# Apply log transformation to math scores\n",
    "df['log_math_score'] = np.log(df['math score'])\n",
    "\n",
    "# Transformed distribution of math scores\n",
    "plt.figure(figsize=(8, 6))\n",
    "plt.hist(df['log_math_score'], bins=30, edgecolor='black')\n",
    "plt.xlabel('Log Transformed Math Score')\n",
    "plt.ylabel('Frequency')\n",
    "plt.title('Transformed Distribution of Math Scores')\n",
    "plt.show()\n"
   ]
  }
 ],
 "metadata": {
  "colab": {
   "authorship_tag": "ABX9TyPCabucTToaeyp9H9XKn7xe",
   "include_colab_link": true,
   "name": "A2.ipynb",
   "provenance": []
  },
  "kernelspec": {
   "display_name": "Python 3 (ipykernel)",
   "language": "python",
   "name": "python3"
  },
  "language_info": {
   "codemirror_mode": {
    "name": "ipython",
    "version": 3
   },
   "file_extension": ".py",
   "mimetype": "text/x-python",
   "name": "python",
   "nbconvert_exporter": "python",
   "pygments_lexer": "ipython3",
   "version": "3.9.10"
  }
 },
 "nbformat": 4,
 "nbformat_minor": 1
}
