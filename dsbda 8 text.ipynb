{
 "cells": [
  {
   "attachments": {},
   "cell_type": "markdown",
   "id": "c12882d6",
   "metadata": {},
   "source": [
    "### Importing Necessary Libraries"
   ]
  },
  {
   "cell_type": "code",
   "execution_count": null,
   "id": "582044c3",
   "metadata": {},
   "outputs": [],
   "source": [
    "import nltk\n",
    "\n",
    "# Download necessary resources\n",
    "nltk.download('stopwords')\n",
    "nltk.download('words')\n",
    "nltk.download('wordnet')\n",
    "nltk.download('averged_perception_tagger')\n",
    "nltk.download('punkt')\n"
   ]
  },
  {
   "attachments": {},
   "cell_type": "markdown",
   "id": "59407a85",
   "metadata": {},
   "source": [
    "### Loading the dataset"
   ]
  },
  {
   "cell_type": "code",
   "execution_count": null,
   "id": "0bae900a",
   "metadata": {},
   "outputs": [],
   "source": [
    "import pandas as pd\n",
    "import numpy as np"
   ]
  },
  {
   "cell_type": "code",
   "execution_count": null,
   "id": "b724b99f",
   "metadata": {
    "scrolled": true
   },
   "outputs": [],
   "source": [
    "sent= \"They told that thier eges are 20 23 and 27 respectively\""
   ]
  },
  {
   "cell_type": "code",
   "execution_count": null,
   "id": "af27def8",
   "metadata": {
    "scrolled": true
   },
   "outputs": [],
   "source": [
    "add=[]\n",
    "\n",
    "for word in sent.split():\n",
    " if word.isdigit():\n",
    "   add.append(int(word))"
   ]
  },
  {
   "cell_type": "code",
   "execution_count": null,
   "id": "42ccc590",
   "metadata": {
    "scrolled": true
   },
   "outputs": [],
   "source": [
    "print (\"Ave\", sum(add)/len(add))"
   ]
  },
  {
   "cell_type": "code",
   "execution_count": null,
   "id": "3f139599",
   "metadata": {},
   "outputs": [],
   "source": [
    "from nltk.tokenize import word_tokenize,sent_tokenize\n",
    "sent='Hello all! how r u ? welcome to pune..'\n",
    "sent_tokenize(sent)\n",
    "word_tokenize(sent)"
   ]
  },
  {
   "cell_type": "code",
   "execution_count": null,
   "id": "2a9b437c",
   "metadata": {},
   "outputs": [],
   "source": [
    "from nltk.tokenize import SpaceTokenizer\n",
    "tk=SpaceTokenizer()\n",
    "tk.tokenize(sent)\n",
    "sent='Hello all!\\tHow are u?\\tto pune'\n",
    "print(sent)"
   ]
  },
  {
   "cell_type": "code",
   "execution_count": null,
   "id": "382f47b3",
   "metadata": {},
   "outputs": [],
   "source": [
    "s1='ctas','catlike','catty','cat'\n",
    "s2='stemmer','stemming','stemmed','stem'\n",
    "s3='fishing','fished','fisher','fish'\n",
    "s4='argue','argued','argues','argus'\n",
    "from nltk.stem import PorterStemmer\n",
    "ps=PorterStemmer()\n",
    "ps.stem(s3[0])"
   ]
  },
  {
   "cell_type": "code",
   "execution_count": null,
   "id": "77d37258",
   "metadata": {},
   "outputs": [],
   "source": [
    "for word in s4:\n",
    " ps=PorterStemmer()\n",
    " print(ps.stem(word))"
   ]
  },
  {
   "cell_type": "code",
   "execution_count": null,
   "id": "215acfca",
   "metadata": {},
   "outputs": [],
   "source": [
    "word='cooking'\n",
    "from nltk.stem import WordNetLemmatizer\n",
    "wnl=WordNetLemmatizer()\n",
    "print(wnl.lemmatize(word,'n')) # noun\n",
    "print(wnl.lemmatize(word,'v')) # verb\n",
    "print(wnl.lemmatize(word,'a')) # adjective\n",
    "print(wnl.lemmatize(word,'r')) # adverb"
   ]
  },
  {
   "cell_type": "code",
   "execution_count": null,
   "id": "2d48564a",
   "metadata": {},
   "outputs": [],
   "source": [
    "word='went'\n",
    "wnl=WordNetLemmatizer()\n",
    "print(wnl.lemmatize(word,'n')) # noun\n",
    "print(wnl.lemmatize(word,'v')) # verb\n",
    "print(wnl.lemmatize(word,'a')) # adjective\n",
    "print(wnl.lemmatize(word,'r')) # adverb"
   ]
  },
  {
   "cell_type": "code",
   "execution_count": null,
   "id": "bcd24ae4",
   "metadata": {},
   "outputs": [],
   "source": [
    "# POS tagging\n",
    "from nltk import pos_tag"
   ]
  },
  {
   "cell_type": "code",
   "execution_count": null,
   "id": "56efe5e0",
   "metadata": {},
   "outputs": [],
   "source": [
    "import nltk\n",
    "nltk.download('averaged_perceptron_tagger')"
   ]
  },
  {
   "cell_type": "code",
   "execution_count": null,
   "id": "833fd540",
   "metadata": {},
   "outputs": [],
   "source": [
    "sents=\"\"\"Rajgad (literal meaning Ruling Fort) is a hill fort situated in the Pune district of \n",
    "Maharashtra,India. Formerly known as Murumdev, the fort was the capital of the Maratha Empire \n",
    "under the rule of Shivaji for almost 26 years, after which the capital was moved to the Raigad Fort.[1] \n",
    "Treasures discovered from an adjacent fort called Torna were used to completely build and fortify the \n",
    "Rajgad Fort.[citation needed]\"\"\"\n",
    "\n",
    "print(sents)"
   ]
  },
  {
   "cell_type": "code",
   "execution_count": null,
   "id": "7637ab97",
   "metadata": {},
   "outputs": [],
   "source": [
    "words=word_tokenize(sents)\n",
    "nltk.download('omw-1.4')\n",
    "pos_tag(words)\n",
    "tags=pos_tag(words)"
   ]
  },
  {
   "cell_type": "code",
   "execution_count": null,
   "id": "75998d12",
   "metadata": {},
   "outputs": [],
   "source": [
    "for word in tags:\n",
    " if word[1].startswith('V'):\n",
    "  print(word[0])"
   ]
  },
  {
   "cell_type": "code",
   "execution_count": null,
   "id": "a784ff2b",
   "metadata": {},
   "outputs": [],
   "source": [
    "\n",
    "import textblob \n",
    "\n",
    "from textblob import TextBlob\n",
    "t=TextBlob('computoor')\n",
    "print(t.correct())\n",
    "t=TextBlob('nead')\n",
    "print(t.correct())"
   ]
  }
 ],
 "metadata": {
  "kernelspec": {
   "display_name": "Python 3 (ipykernel)",
   "language": "python",
   "name": "python3"
  },
  "language_info": {
   "codemirror_mode": {
    "name": "ipython",
    "version": 3
   },
   "file_extension": ".py",
   "mimetype": "text/x-python",
   "name": "python",
   "nbconvert_exporter": "python",
   "pygments_lexer": "ipython3",
   "version": "3.9.10"
  }
 },
 "nbformat": 4,
 "nbformat_minor": 5
}
