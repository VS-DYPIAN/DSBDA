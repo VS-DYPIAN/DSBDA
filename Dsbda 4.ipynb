{
 "cells": [
  {
   "attachments": {},
   "cell_type": "markdown",
   "id": "c12882d6",
   "metadata": {},
   "source": [
    "### 4. Write a Python program to display some basic statistical details like percentile, mean, standard deviation etc. of the species of ‘Iris-setosa’, ‘Iris-versicolor’ and ‘Iris-versicolor’ of iris.csv dataset"
   ]
  },
  {
   "cell_type": "code",
   "execution_count": 3,
   "id": "b5c4885d",
   "metadata": {},
   "outputs": [
    {
     "name": "stdout",
     "output_type": "stream",
     "text": [
      "Statistical Details for Iris-setosa:\n",
      "             Id  SepalLengthCm  SepalWidthCm  PetalLengthCm  PetalWidthCm\n",
      "count  50.00000       50.00000     50.000000      50.000000      50.00000\n",
      "mean   25.50000        5.00600      3.418000       1.464000       0.24400\n",
      "std    14.57738        0.35249      0.381024       0.173511       0.10721\n",
      "min     1.00000        4.30000      2.300000       1.000000       0.10000\n",
      "25%    13.25000        4.80000      3.125000       1.400000       0.20000\n",
      "50%    25.50000        5.00000      3.400000       1.500000       0.20000\n",
      "75%    37.75000        5.20000      3.675000       1.575000       0.30000\n",
      "max    50.00000        5.80000      4.400000       1.900000       0.60000\n",
      "\n",
      "Statistical Details for Iris-versicolor:\n",
      "              Id  SepalLengthCm  SepalWidthCm  PetalLengthCm  PetalWidthCm\n",
      "count   50.00000      50.000000     50.000000      50.000000     50.000000\n",
      "mean    75.50000       5.936000      2.770000       4.260000      1.326000\n",
      "std     14.57738       0.516171      0.313798       0.469911      0.197753\n",
      "min     51.00000       4.900000      2.000000       3.000000      1.000000\n",
      "25%     63.25000       5.600000      2.525000       4.000000      1.200000\n",
      "50%     75.50000       5.900000      2.800000       4.350000      1.300000\n",
      "75%     87.75000       6.300000      3.000000       4.600000      1.500000\n",
      "max    100.00000       7.000000      3.400000       5.100000      1.800000\n",
      "\n",
      "Statistical Details for Iris-virginica:\n",
      "              Id  SepalLengthCm  SepalWidthCm  PetalLengthCm  PetalWidthCm\n",
      "count   50.00000       50.00000     50.000000      50.000000      50.00000\n",
      "mean   125.50000        6.58800      2.974000       5.552000       2.02600\n",
      "std     14.57738        0.63588      0.322497       0.551895       0.27465\n",
      "min    101.00000        4.90000      2.200000       4.500000       1.40000\n",
      "25%    113.25000        6.22500      2.800000       5.100000       1.80000\n",
      "50%    125.50000        6.50000      3.000000       5.550000       2.00000\n",
      "75%    137.75000        6.90000      3.175000       5.875000       2.30000\n",
      "max    150.00000        7.90000      3.800000       6.900000       2.50000\n"
     ]
    }
   ],
   "source": [
    "import pandas as pd\n",
    "import numpy as np\n",
    "\n",
    "# Load the iris dataset\n",
    "df = pd.read_csv('iris.csv')\n",
    "df\n",
    "\n",
    "# Filter dataset for each species\n",
    "setosa_df = df[df['Species'] == 'Iris-setosa']\n",
    "versicolor_df = df[df['Species'] == 'Iris-versicolor']\n",
    "virginica_df = df[df['Species'] == 'Iris-virginica']\n",
    "\n",
    "# Display statistical details for each species\n",
    "setosa_stats = setosa_df.describe()\n",
    "versicolor_stats = versicolor_df.describe()\n",
    "virginica_stats = virginica_df.describe()\n",
    "\n",
    "# Print the statistical details for each species\n",
    "print(\"Statistical Details for Iris-setosa:\")\n",
    "print(setosa_stats)\n",
    "print(\"\\nStatistical Details for Iris-versicolor:\")\n",
    "print(versicolor_stats)\n",
    "print(\"\\nStatistical Details for Iris-virginica:\")\n",
    "print(virginica_stats)\n"
   ]
  }
 ],
 "metadata": {
  "kernelspec": {
   "display_name": "Python 3 (ipykernel)",
   "language": "python",
   "name": "python3"
  },
  "language_info": {
   "codemirror_mode": {
    "name": "ipython",
    "version": 3
   },
   "file_extension": ".py",
   "mimetype": "text/x-python",
   "name": "python",
   "nbconvert_exporter": "python",
   "pygments_lexer": "ipython3",
   "version": "3.9.10"
  }
 },
 "nbformat": 4,
 "nbformat_minor": 5
}
