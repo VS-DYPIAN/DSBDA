{
 "cells": [
  {
   "attachments": {},
   "cell_type": "markdown",
   "metadata": {
    "id": "GpdVzu5cKGno"
   },
   "source": [
    "Importing the required libraries:"
   ]
  },
  {
   "cell_type": "code",
   "execution_count": null,
   "metadata": {
    "id": "lj6sZFBrC4UH"
   },
   "outputs": [],
   "source": [
    "import numpy as np\n",
    "import pandas as pd\n",
    "import matplotlib.pyplot as plt\n",
    "%matplotlib inline\n",
    "import seaborn as sns"
   ]
  },
  {
   "attachments": {},
   "cell_type": "markdown",
   "metadata": {
    "id": "i2frCyUzKMfz"
   },
   "source": [
    "Here we will load the Iris dataset and store it in a dataframe using pandas."
   ]
  },
  {
   "cell_type": "code",
   "execution_count": null,
   "metadata": {
    "id": "zuQuRaB4C_9z"
   },
   "outputs": [],
   "source": [
    "#dataset = sns.load_dataset('iris')\n",
    "dataset= pd.read_csv('iris.csv')"
   ]
  },
  {
   "cell_type": "code",
   "execution_count": null,
   "metadata": {},
   "outputs": [],
   "source": [
    "dataset.head()"
   ]
  },
  {
   "attachments": {},
   "cell_type": "markdown",
   "metadata": {
    "id": "6V6ReC8oKblh"
   },
   "source": [
    "### 1. Displaying the different features of dataset and their types."
   ]
  },
  {
   "cell_type": "code",
   "execution_count": null,
   "metadata": {
    "colab": {
     "base_uri": "https://localhost:8080/"
    },
    "id": "AcBvKC6SC_7d",
    "outputId": "65b1f245-3c97-45ce-9d8b-f88f85e3343a"
   },
   "outputs": [],
   "source": [
    "dataset.info()\n",
    "dataset.describe()"
   ]
  },
  {
   "attachments": {},
   "cell_type": "markdown",
   "metadata": {
    "id": "soaD-fpNKpEB"
   },
   "source": [
    "### 2. We plot the Histogram for each feature in the dataset. "
   ]
  },
  {
   "cell_type": "code",
   "execution_count": null,
   "metadata": {
    "colab": {
     "base_uri": "https://localhost:8080/",
     "height": 499
    },
    "id": "1GDfHjeyC_yk",
    "outputId": "9330c909-9234-4c0c-cdd4-e08d60ee9cdd"
   },
   "outputs": [],
   "source": [
    "fig, axes = plt.subplots(2, 2, figsize=(16, 8))\n",
    "\n",
    "\n",
    "axes[0,0].set_title(\"Distribution of Sepal Length\")\n",
    "axes[0,0].hist(dataset[\"SepalLengthCm\"]);\n",
    "\n",
    "axes[0,1].set_title(\"Distribution of Sepal Width\")\n",
    "axes[0,1].hist(dataset[\"SepalWidthCm\"]);\n",
    "\n",
    "axes[1,0].set_title(\"Distribution of Petal Length\")\n",
    "axes[1,0].hist(dataset[\"PetalLengthCm\"]);\n",
    "\n",
    "axes[1,1].set_title(\"Distribution of Petal Width\")\n",
    "axes[1,1].hist(dataset[\"PetalWidthCm\"]);"
   ]
  },
  {
   "attachments": {},
   "cell_type": "markdown",
   "metadata": {
    "id": "NS5-HRU3K9eG"
   },
   "source": [
    "### 3. We plot the Boxplot for each feature in the dataset. "
   ]
  },
  {
   "cell_type": "code",
   "execution_count": null,
   "metadata": {
    "colab": {
     "base_uri": "https://localhost:8080/",
     "height": 566
    },
    "id": "VD3aoZO7C_wd",
    "outputId": "b1e5b48b-ff08-4356-e9cb-290bed1a92f9"
   },
   "outputs": [],
   "source": [
    "fig, axes = plt.subplots(2, 2, figsize=(16,9))\n",
    "axes[0,0].set_title(\"Distribution of Sepal Length\")\n",
    "sns.boxplot(  y=\"SepalLengthCm\", x= \"Species\", data=dataset,  orient='v' , ax=axes[0, 0])\n",
    "axes[0,1].set_title(\"Distribution of Sepal Length\")\n",
    "sns.boxplot(  y=\"SepalWidthCm\", x= \"Species\", data=dataset,  orient='v' , ax=axes[0, 1])\n",
    "axes[1,0].set_title(\"Distribution of Sepal Length\")\n",
    "sns.boxplot(  y=\"PetalLengthCm\", x= \"Species\", data=dataset,  orient='v' , ax=axes[1, 0])\n",
    "axes[1,1].set_title(\"Distribution of Sepal Length\")\n",
    "sns.boxplot(  y=\"PetalWidthCm\", x= \"Species\", data=dataset,  orient='v' , ax=axes[1, 1])\n",
    "plt.show()"
   ]
  },
  {
   "attachments": {},
   "cell_type": "markdown",
   "metadata": {},
   "source": [
    "### 4. Comparing distributions and identify outliers\n",
    "* Sepal Length (cm): There are no visible outliers in this feature. All data points fall within the whiskers of the boxplot, indicating a relatively consistent distribution.\n",
    "\n",
    "* Sepal Width (cm): There is a potential outlier on the lower end of the distribution. One data point falls below the lower whisker, suggesting that it is a lower value compared to the rest of the data.\n",
    "\n",
    "* Petal Length (cm): There are no visible outliers in this feature. All data points fall within the whiskers of the boxplot, indicating a relatively consistent distribution.\n",
    "\n",
    "* Petal Width (cm): There are a few potential outliers on the higher end of the distribution. These data points fall above the upper whisker, suggesting that they are higher values compared to the rest of the data."
   ]
  },
  {
   "cell_type": "code",
   "execution_count": null,
   "metadata": {},
   "outputs": [],
   "source": [
    "\n",
    "\n",
    "# Select numeric columns\n",
    "numeric_columns = dataset.select_dtypes(include=['float64', 'int64'])\n",
    "\n",
    "# Identify outliers using IQR method\n",
    "Q1 = numeric_columns.quantile(0.25)\n",
    "Q3 = numeric_columns.quantile(0.75)\n",
    "IQR = Q3 - Q1\n",
    "\n",
    "lower_bound = Q1 - 1.5 * IQR\n",
    "upper_bound = Q3 + 1.5 * IQR\n",
    "\n",
    "outliers = ((numeric_columns < lower_bound) | (numeric_columns > upper_bound)).any()\n",
    "outliers_columns = numeric_columns.columns[outliers]\n",
    "\n",
    "print(\"Outliers in the dataset:\")\n",
    "print(outliers_columns)\n"
   ]
  }
 ],
 "metadata": {
  "colab": {
   "name": "DS & BDA Lab 10.ipynb",
   "provenance": []
  },
  "kernelspec": {
   "display_name": "Python 3 (ipykernel)",
   "language": "python",
   "name": "python3"
  },
  "language_info": {
   "codemirror_mode": {
    "name": "ipython",
    "version": 3
   },
   "file_extension": ".py",
   "mimetype": "text/x-python",
   "name": "python",
   "nbconvert_exporter": "python",
   "pygments_lexer": "ipython3",
   "version": "3.9.10"
  }
 },
 "nbformat": 4,
 "nbformat_minor": 1
}
